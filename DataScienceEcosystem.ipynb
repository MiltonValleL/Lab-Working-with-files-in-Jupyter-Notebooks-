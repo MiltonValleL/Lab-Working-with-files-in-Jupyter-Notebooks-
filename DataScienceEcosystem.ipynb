{
 "cells": [
  {
   "cell_type": "markdown",
   "metadata": {},
   "source": [
    "<center>\n",
    "    <img src=\"https://cf-courses-data.s3.us.cloud-object-storage.appdomain.cloud/IBMDeveloperSkillsNetwork-DS0105EN-SkillsNetwork/labs/Module2/images/SN_web_lightmode.png\" width=\"300\" alt=\"cognitiveclass.ai logo\">\n",
    "</center>\n"
   ]
  },
  {
   "cell_type": "markdown",
   "metadata": {},
   "source": [
    "# Hands-on Lab: Create your Jupyter Notebook\n"
   ]
  },
  {
   "cell_type": "markdown",
   "metadata": {},
   "source": [
    "#### Add your code below following the instructions given in the course\n"
   ]
  },
  {
   "cell_type": "markdown",
   "metadata": {},
   "source": [
    "---\n"
   ]
  },
  {
   "cell_type": "markdown",
   "metadata": {},
   "source": [
    "---\n",
    "\n",
    "<div style='background-color:rgba(240, 240, 45, 0.45); padding:15px;'>\n",
    "    \n",
    "<span style='color:brown'>\n",
    "\n",
    "**Exercise 1: Create a Jupyter Notebook**\n",
    "\n",
    "</span>\n",
    "\n",
    "Create a new Jupyter notebook called DataScienceEcosystem.ipynb\n",
    "\n",
    "</div>\n",
    "\n",
    "---"
   ]
  },
  {
   "cell_type": "markdown",
   "metadata": {},
   "source": [
    "<center><img src='images/01.png' width=990></center>"
   ]
  },
  {
   "cell_type": "markdown",
   "metadata": {},
   "source": [
    "---"
   ]
  },
  {
   "cell_type": "markdown",
   "metadata": {},
   "source": [
    "---\n",
    "\n",
    "<div style='background-color:rgba(240, 240, 45, 0.45); padding:15px;'>\n",
    "    \n",
    "<span style='color:brown'>\n",
    "\n",
    "**Exercise 2: Create markdown cell with title of the notebook**\n",
    "\n",
    "</span>\n",
    "\n",
    "- Create a markdown cell with the title Data Science Tools and Ecosystem using H1 style heading.\n",
    "\n",
    "- Take a screenshot of the markdown cell and name it as `2-title.png`\n",
    "\n",
    "</div>\n",
    "\n",
    "---"
   ]
  },
  {
   "cell_type": "markdown",
   "metadata": {},
   "source": [
    "# **Data Science Tools and Ecosystem**"
   ]
  },
  {
   "cell_type": "markdown",
   "metadata": {},
   "source": [
    "<center><img src='images/2-title.png' width=990></center>\n"
   ]
  },
  {
   "cell_type": "markdown",
   "metadata": {},
   "source": [
    "---"
   ]
  },
  {
   "cell_type": "markdown",
   "metadata": {},
   "source": [
    "---\n",
    "\n",
    "<div style='background-color:rgba(240, 240, 45, 0.45); padding:15px;'>\n",
    "\n",
    "<span style='color:brown'>\n",
    "\n",
    "**Exercise 3 - Create a markdown cell for an introduction**\n",
    "\n",
    "</span>\n",
    "\n",
    "Write an introductory sentence about the notebook such as the follows:\n",
    "\n",
    "`In this notebook, Data Science Tools and Ecosystem are summarized`.\n",
    "\n",
    "Take a screenshot of the markdown cell and name it as `3-intro.png`\n",
    "\n",
    "</div>\n",
    "\n",
    "---"
   ]
  },
  {
   "cell_type": "markdown",
   "metadata": {},
   "source": [
    "In this notebook, Data Science Tools and Ecosystem are summarized."
   ]
  },
  {
   "cell_type": "markdown",
   "metadata": {},
   "source": [
    "<center><img src='images/3-intro.png' width=990></center>"
   ]
  },
  {
   "cell_type": "markdown",
   "metadata": {},
   "source": [
    "---"
   ]
  },
  {
   "cell_type": "markdown",
   "metadata": {},
   "source": [
    "---\n",
    "\n",
    "<div style='background-color:rgba(240, 240, 45, 0.45); padding:15px;'>\n",
    "\n",
    "<span style='color:brown'>\n",
    "\n",
    "**Exercise 4 - Create a markdown cell to list data science languages**\n",
    "\n",
    "</span>\n",
    "\n",
    "Start the cell with an overview line such as:\n",
    "\n",
    "`Some of the popular languages that Data Scientists use are:`\n",
    "\n",
    "Then create an ordered list (i.e. numbered) listing 3 (or more) commonly used languages for data science.\n",
    "\n",
    "Take a screenshot of the markdown cell and name it as `4-dslanguages.png`\n",
    "\n",
    "</div>\n",
    "\n",
    "---"
   ]
  },
  {
   "cell_type": "markdown",
   "metadata": {},
   "source": [
    "Some of the popular languages that Data Scientists use are:\n",
    "\n",
    "1. Python\n",
    "2. R\n",
    "3. SQL\n",
    "4. Scala\n",
    "5. Java\n",
    "6. C++\n",
    "7. Julia\n",
    "8. JS\n",
    "9. PHP\n",
    "10. GO\n",
    "11. Ruby\n",
    "12. Visual Basic\n"
   ]
  },
  {
   "cell_type": "markdown",
   "metadata": {},
   "source": [
    "<img src='images/4-dslanguages.png' width=990> "
   ]
  },
  {
   "cell_type": "markdown",
   "metadata": {},
   "source": [
    "---"
   ]
  },
  {
   "cell_type": "markdown",
   "metadata": {},
   "source": [
    "---\n",
    "\n",
    "<div style='background-color:rgba(240, 240, 45, 0.45); padding:15px;'>\n",
    "\n",
    "<span style='color:brown'>\n",
    "\n",
    "**Exercise 5 - Create a markdown cell to list data science libraries**\n",
    "\n",
    "</span>\n",
    "\n",
    "Add an overview line to the cell like:\n",
    "\n",
    "`Some of the commonly used libraries used by Data Scientists include:`\n",
    "\n",
    "Below this line add an ordered list listing 3 (or more) commonly used libraries in data science.\n",
    "\n",
    "Take a screenshot of the markdown cell and name it as `5-dslibraries.png`\n",
    "\n",
    "</div>\n",
    "\n",
    "---"
   ]
  },
  {
   "cell_type": "markdown",
   "metadata": {},
   "source": [
    "Some of the commonly used libraries used by Data Scientists include:\n",
    "\n",
    "1. Pandas\n",
    "2. Numpy\n",
    "3. Scipy\n",
    "4. Matplotlib\n",
    "5. Scikit-Learn\n",
    "6. Keras\n",
    "7. TensorFlow\n"
   ]
  },
  {
   "cell_type": "markdown",
   "metadata": {},
   "source": [
    "<img src='images/5-dslibraries.png' width=990>"
   ]
  },
  {
   "cell_type": "markdown",
   "metadata": {},
   "source": [
    "---"
   ]
  },
  {
   "cell_type": "markdown",
   "metadata": {},
   "source": [
    "---\n",
    "\n",
    "<div style='background-color:rgba(240, 240, 45, 0.45); padding:15px;'>\n",
    "\n",
    "<span style='color:brown'>\n",
    "\n",
    "**Exercise 6 - Create a markdown cell with a table of Data Science tools**\n",
    "\n",
    "</span>\n",
    "\n",
    "Create a single column table in this cell with the first row containing the header `Data Science Tools`. The subsequent three rows in the table should indicate three development environment open source tools used in data science.\n",
    "\n",
    "Take a screenshot of the markdown cell and name it as `6-dstools.png`\n",
    "\n",
    "**Hint: Refer to Lab: Using Markdowns in Jupyter Notebooks to create a table.**\n",
    "\n",
    "\n",
    "</div>\n",
    "\n",
    "---"
   ]
  },
  {
   "cell_type": "markdown",
   "metadata": {},
   "source": [
    "|**Data Science Tools**|\n",
    "|:------:|\n",
    "| Jupyter Notebook |\n",
    "| RStudio |\n",
    "| VS Code |"
   ]
  },
  {
   "cell_type": "markdown",
   "metadata": {},
   "source": [
    "<img src='images/6-dstools.png' width=990>"
   ]
  },
  {
   "cell_type": "markdown",
   "metadata": {},
   "source": [
    "---"
   ]
  },
  {
   "cell_type": "markdown",
   "metadata": {},
   "source": [
    "---\n",
    "\n",
    "<div style='background-color:rgba(240, 240, 45, 0.45); padding:15px;'>\n",
    "\n",
    "<span style='color:brown'>\n",
    "\n",
    "**Exercise 7 - Create a markdown cell introducing arithmetic expression examples**\n",
    "\n",
    "</span>\n",
    "\n",
    "Add a line in this cell with **H3 style heading** with text like:\n",
    "\n",
    "`Below are a few examples of evaluating arithmetic expressions in Python.`\n",
    "\n",
    "Take a screenshot of the markdown cell and name it as `7-introarithmetic.png`\n",
    "\n",
    "\n",
    "</div>\n",
    "\n",
    "---"
   ]
  },
  {
   "cell_type": "markdown",
   "metadata": {},
   "source": [
    "### Below are a few examples of evaluating arithmetic expressions in Python."
   ]
  },
  {
   "cell_type": "markdown",
   "metadata": {},
   "source": [
    "<img src='images/7-introarithmetic.png' width=990>"
   ]
  },
  {
   "cell_type": "markdown",
   "metadata": {},
   "source": [
    "---"
   ]
  },
  {
   "cell_type": "markdown",
   "metadata": {},
   "source": [
    "---\n",
    "\n",
    "<div style='background-color:rgba(240, 240, 45, 0.45); padding:15px;'>\n",
    "\n",
    "<span style='color:brown'>\n",
    "\n",
    "**Exercise 8 - Create a code cell to multiply and add numbers**\n",
    "\n",
    "</span>\n",
    "\n",
    "In this code cell evaluate the expression `(3*4)+5`.\n",
    "\n",
    "*Insert a comment line before the expression to explain the operation e.g.*  `This a simple arithmetic expression to mutiply then add integers.`\n",
    "\n",
    "Then execute the cell to ensure the expression returns the expected output of `17`.\n",
    "\n",
    "Take a screenshot of the code cell with output and name it as `8-multiplyandaddintegers.png`\n",
    "\n",
    "\n",
    "</div>\n",
    "\n",
    "---"
   ]
  },
  {
   "cell_type": "markdown",
   "metadata": {},
   "source": [
    "This a simple arithmetic expression to mutiply then add integers."
   ]
  },
  {
   "cell_type": "code",
   "execution_count": 1,
   "metadata": {},
   "outputs": [
    {
     "data": {
      "text/plain": [
       "17"
      ]
     },
     "execution_count": 1,
     "metadata": {},
     "output_type": "execute_result"
    }
   ],
   "source": [
    "(3 * 4) + 5"
   ]
  },
  {
   "cell_type": "markdown",
   "metadata": {},
   "source": [
    "<img src='images/8-multiplyandaddintegers.png' width=990>"
   ]
  },
  {
   "cell_type": "markdown",
   "metadata": {},
   "source": [
    "---"
   ]
  },
  {
   "cell_type": "markdown",
   "metadata": {},
   "source": [
    "---\n",
    "\n",
    "<div style='background-color:rgba(240, 240, 45, 0.45); padding:15px;'>\n",
    "\n",
    "<span style='color:brown'>\n",
    "\n",
    "**Exercise 9 - Create a code cell to convert minutes to hours**\n",
    "\n",
    "</span>\n",
    "\n",
    "In this code cell write an expression that converts `200 minutes` into `hours`.\n",
    "\n",
    "*Insert a comment line before the expression to explain the operation e.g.*  `This will convert 200 minutes to hours by diving by 60.`\n",
    "\n",
    "Run the cell to evaluate the expression.\n",
    "\n",
    "Take a screenshot of the code cell with output and name it as `9-hourstominutes.png`\n",
    "\n",
    "\n",
    "</div>\n",
    "\n",
    "---"
   ]
  },
  {
   "cell_type": "markdown",
   "metadata": {},
   "source": [
    "This will convert 200 minutes to hours by diving by 60."
   ]
  },
  {
   "cell_type": "code",
   "execution_count": 3,
   "metadata": {},
   "outputs": [
    {
     "name": "stdout",
     "output_type": "stream",
     "text": [
      "200 minutes is equivalent to 3.333 hours.\n"
     ]
    }
   ],
   "source": [
    "minutes = 200\n",
    "hours = minutes / 60\n",
    "\n",
    "print(f'200 minutes is equivalent to {hours:.3f} hours.')\n"
   ]
  },
  {
   "cell_type": "markdown",
   "metadata": {},
   "source": [
    "<img src='images/9-hourstominutes.png' width=990>"
   ]
  },
  {
   "cell_type": "markdown",
   "metadata": {},
   "source": [
    "---"
   ]
  },
  {
   "cell_type": "markdown",
   "metadata": {},
   "source": [
    "---\n",
    "\n",
    "<div style='background-color:rgba(240, 240, 45, 0.45); padding:15px;'>\n",
    "\n",
    "<span style='color:brown'>\n",
    "\n",
    "**Exercise 10 - Insert a markdown cell to list Objectives**\n",
    "\n",
    "</span>\n",
    "\n",
    "Below the introduction cell created in Exercise 3, insert a new markdown cell to list the objectives that this notebook covered (i.e. some of the key takeaways from the course). In this new cell start with an introductory line titled: `Objectives:` in bold font. Then using an unordered list (bullets) indicate 3 to 5 items covered in this notebook, such as `List popular languages for Data Science.`\n",
    "\n",
    "Take a screenshot of the markdown cell and name it as `10-objectives.png`\n",
    "\n",
    "\n",
    "</div>\n",
    "\n",
    "---"
   ]
  },
  {
   "cell_type": "markdown",
   "metadata": {},
   "source": [
    "In this notebook, Data Science Tools and Ecosystem are summarized."
   ]
  },
  {
   "cell_type": "markdown",
   "metadata": {},
   "source": [
    "**Objectives:**\n",
    "\n",
    "  * Python.\n",
    "  * R.\n",
    "  * SQL.\n",
    "  * Scala.\n",
    "  * Java."
   ]
  },
  {
   "cell_type": "markdown",
   "metadata": {},
   "source": [
    "<img src='images/10-objectives.png' width=990>"
   ]
  },
  {
   "cell_type": "markdown",
   "metadata": {},
   "source": [
    "---"
   ]
  },
  {
   "cell_type": "markdown",
   "metadata": {},
   "source": [
    "---\n",
    "\n",
    "<div style='background-color:rgba(240, 240, 45, 0.45); padding:15px;'>\n",
    "\n",
    "<span style='color:brown'>\n",
    "\n",
    "**Exercise 11 - Create a markdown cell to indicate the Author's name**\n",
    "\n",
    "</span>\n",
    "\n",
    "In this markdown cell markdown cell include the following text `Author` in **H2 style heading**. Include your `name` as regular text below the word `Author`.\n",
    "\n",
    "Take a screenshot of the markdown cell and name it as `11-authordetails.png`\n",
    "\n",
    "**Note: Save and download the notebook.**\n",
    "\n",
    "\n",
    "</div>\n",
    "\n",
    "---"
   ]
  },
  {
   "cell_type": "markdown",
   "metadata": {},
   "source": [
    "## Author:\n",
    "\n",
    "Milton Valle"
   ]
  },
  {
   "cell_type": "markdown",
   "metadata": {},
   "source": [
    "<img src='images/11-authordetails.png' width=990>"
   ]
  },
  {
   "cell_type": "markdown",
   "metadata": {},
   "source": []
  },
  {
   "cell_type": "markdown",
   "metadata": {},
   "source": [
    "Copyright ©2024 IBM Corporation. All rights reserved.\n"
   ]
  }
 ],
 "metadata": {
  "kernelspec": {
   "display_name": "Python 3 (ipykernel)",
   "language": "python",
   "name": "python3"
  },
  "language_info": {
   "codemirror_mode": {
    "name": "ipython",
    "version": 3
   },
   "file_extension": ".py",
   "mimetype": "text/x-python",
   "name": "python",
   "nbconvert_exporter": "python",
   "pygments_lexer": "ipython3",
   "version": "3.12.6"
  },
  "prev_pub_hash": "9e1985db9844176462bd1d5863048c9f3d17404bbc6a648be9084b0c42b29347"
 },
 "nbformat": 4,
 "nbformat_minor": 4
}
